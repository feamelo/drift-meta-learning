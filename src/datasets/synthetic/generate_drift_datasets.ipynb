{
 "cells": [
  {
   "cell_type": "code",
   "execution_count": 1,
   "metadata": {},
   "outputs": [],
   "source": [
    "from river.datasets import synth\n",
    "import pandas as pd\n",
    "from datasets_metadata import DATASETS_METADATA, SEED, BASE_CONCEPT_SIZE, NEW_CONCEPT_SIZE"
   ]
  },
  {
   "attachments": {},
   "cell_type": "markdown",
   "metadata": {},
   "source": [
    "# Abrupt and recurring drift"
   ]
  },
  {
   "cell_type": "code",
   "execution_count": 2,
   "metadata": {},
   "outputs": [
    {
     "name": "stdout",
     "output_type": "stream",
     "text": [
      "Generating abrupt_sine_balanced...\n",
      "Generating abrupt_sine_unbalanced...\n",
      "Generating abrupt_sine_balanced_noise...\n",
      "Generating abrupt_sine_unbalanced_noise...\n",
      "Generating abrupt_recurring_sine_balanced...\n",
      "Generating abrupt_sea...\n",
      "Generating abrupt_sea_noise...\n",
      "Generating abrupt_recurring_sea...\n",
      "Generating abrupt_stagger_balanced...\n",
      "Generating abrupt_stagger_unbalanced...\n",
      "Generating abrupt_recurring_stagger_balanced...\n",
      "Generating abrupt_mixed_balanced...\n",
      "Generating abrupt_mixed_unbalanced...\n",
      "Generating abrupt_recurring_mixed_balanced...\n",
      "DONE\n"
     ]
    }
   ],
   "source": [
    "for metadata in DATASETS_METADATA:\n",
    "    print(f'Generating {metadata[\"file_name\"]}...')\n",
    "    dataset = []\n",
    "    for concept, params in enumerate(metadata['params']):\n",
    "        config = params['config']\n",
    "        dataset_gen = getattr(synth, metadata['dataset_name'])(**config)\n",
    "        for x, y in dataset_gen.take(params['n_inst']):\n",
    "            x['target'] = y\n",
    "            x['concept'] = concept\n",
    "            dataset.append(x)\n",
    "    pd.DataFrame(dataset).to_csv(f'{metadata[\"file_name\"]}.csv', index=False)\n",
    "\n",
    "print('DONE')"
   ]
  },
  {
   "attachments": {},
   "cell_type": "markdown",
   "metadata": {},
   "source": [
    "# Gradual drift"
   ]
  },
  {
   "attachments": {},
   "cell_type": "markdown",
   "metadata": {},
   "source": [
    "### Friedman drift\n",
    "https://riverml.xyz/0.15.0/api/datasets/synth/FriedmanDrift/"
   ]
  },
  {
   "cell_type": "code",
   "execution_count": 3,
   "metadata": {},
   "outputs": [
    {
     "name": "stdout",
     "output_type": "stream",
     "text": [
      "Generating gradual_friedman...\n"
     ]
    },
    {
     "data": {
      "text/plain": [
       "3"
      ]
     },
     "execution_count": 3,
     "metadata": {},
     "output_type": "execute_result"
    }
   ],
   "source": [
    "TRANSITION_WINDOW = NEW_CONCEPT_SIZE/10\n",
    "\n",
    "print(f'Generating gradual_friedman...')\n",
    "dataset_gen = synth.FriedmanDrift(\n",
    "    drift_type='gsg',\n",
    "    position=(NEW_CONCEPT_SIZE, 2*NEW_CONCEPT_SIZE),\n",
    "    seed=SEED,\n",
    "    transition_window=TRANSITION_WINDOW,\n",
    ")\n",
    "\n",
    "dataset = []\n",
    "concept_counter = 0\n",
    "concept = 0\n",
    "\n",
    "for x, y in dataset_gen.take(3*NEW_CONCEPT_SIZE):\n",
    "    x['target'] = y\n",
    "    x['concept'] = concept\n",
    "    dataset.append(x)\n",
    "    \n",
    "    concept_counter +=1\n",
    "    if concept_counter == NEW_CONCEPT_SIZE:\n",
    "        concept_counter = 0\n",
    "        concept += 1\n",
    "\n",
    "pd.DataFrame(dataset).to_csv('gradual_friedman.csv', index=False)\n",
    "concept"
   ]
  },
  {
   "attachments": {},
   "cell_type": "markdown",
   "metadata": {},
   "source": [
    "### Agrawal drift\n",
    "https://riverml.xyz/0.15.0/api/datasets/synth/Agrawal/"
   ]
  },
  {
   "cell_type": "code",
   "execution_count": 6,
   "metadata": {},
   "outputs": [],
   "source": [
    "def generate_agrawal(balance_classes: bool=True, perturbation: float=0):\n",
    "    noise = '_with_noise' if perturbation > 0 else ''\n",
    "    filename = f\"gradual_agrawal_{'un' if not balance_classes else ''}balanced{noise}\"\n",
    "    dataset = []\n",
    "\n",
    "    print(f'Generating {filename}.csv...')\n",
    "    for concept in range(0, 10):\n",
    "        dataset_gen = synth.Agrawal(classification_function=concept, seed=SEED, balance_classes=balance_classes, perturbation=perturbation)\n",
    "        # The first concept will have more instances for the offline phase\n",
    "        concept_size = BASE_CONCEPT_SIZE if concept == 0 else int(BASE_CONCEPT_SIZE/10)\n",
    "        for x, y in dataset_gen.take(concept_size):\n",
    "            x['target'] = y\n",
    "            x['concept'] = concept\n",
    "            dataset.append(x)\n",
    "    pd.DataFrame(dataset).to_csv(f'{filename}.csv', index=False)"
   ]
  },
  {
   "cell_type": "code",
   "execution_count": 7,
   "metadata": {},
   "outputs": [
    {
     "name": "stdout",
     "output_type": "stream",
     "text": [
      "Generating gradual_agrawal_balanced.csv...\n",
      "Generating gradual_agrawal_unbalanced.csv...\n",
      "Generating gradual_agrawal_balanced_with_noise.csv...\n",
      "Generating gradual_agrawal_unbalanced_with_noise.csv...\n"
     ]
    }
   ],
   "source": [
    "generate_agrawal(balance_classes=True, perturbation=0)\n",
    "generate_agrawal(balance_classes=False, perturbation=0)\n",
    "generate_agrawal(balance_classes=True, perturbation=0.5)\n",
    "generate_agrawal(balance_classes=False, perturbation=0.5)"
   ]
  },
  {
   "cell_type": "code",
   "execution_count": 8,
   "metadata": {},
   "outputs": [],
   "source": [
    "def generate_agrawal_with_noise(balance_classes: bool=True, classification_function: int=0, perturbation=(0, 0.5, 0.1, 1, 0.3, 0)):\n",
    "    filename = f\"gradual_agrawal_{'un' if not balance_classes else ''}balanced_increasing_noise\"\n",
    "    dataset = []\n",
    "\n",
    "    print(f'Generating {filename}.csv...')\n",
    "    for concept, p in enumerate(perturbation):\n",
    "        dataset_gen = synth.Agrawal(classification_function=classification_function, seed=SEED, balance_classes=balance_classes, perturbation=p)\n",
    "        # The first concept will have more instances for the offline phase\n",
    "        concept_size = BASE_CONCEPT_SIZE if concept == 0 else int(BASE_CONCEPT_SIZE/10)\n",
    "\n",
    "        for x, y in dataset_gen.take(concept_size):\n",
    "            x['target'] = y\n",
    "            x['concept'] = concept\n",
    "            dataset.append(x)\n",
    "    pd.DataFrame(dataset).to_csv(f'{filename}.csv', index=False)"
   ]
  },
  {
   "cell_type": "code",
   "execution_count": 9,
   "metadata": {},
   "outputs": [
    {
     "name": "stdout",
     "output_type": "stream",
     "text": [
      "Generating gradual_agrawal_balanced_increasing_noise.csv...\n",
      "Generating gradual_agrawal_unbalanced_increasing_noise.csv...\n"
     ]
    }
   ],
   "source": [
    "generate_agrawal_with_noise(balance_classes=True)\n",
    "generate_agrawal_with_noise(balance_classes=False)"
   ]
  },
  {
   "cell_type": "code",
   "execution_count": null,
   "metadata": {},
   "outputs": [],
   "source": []
  }
 ],
 "metadata": {
  "kernelspec": {
   "display_name": "venv",
   "language": "python",
   "name": "python3"
  },
  "language_info": {
   "codemirror_mode": {
    "name": "ipython",
    "version": 3
   },
   "file_extension": ".py",
   "mimetype": "text/x-python",
   "name": "python",
   "nbconvert_exporter": "python",
   "pygments_lexer": "ipython3",
   "version": "3.10.7"
  },
  "orig_nbformat": 4
 },
 "nbformat": 4,
 "nbformat_minor": 2
}
