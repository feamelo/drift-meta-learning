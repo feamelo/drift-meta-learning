{
 "cells": [
  {
   "cell_type": "code",
   "execution_count": 1,
   "metadata": {},
   "outputs": [],
   "source": [
    "from river.datasets import synth\n",
    "import pandas as pd\n",
    "from datasets_metadata import DATASETS_METADATA"
   ]
  },
  {
   "cell_type": "code",
   "execution_count": 2,
   "metadata": {},
   "outputs": [
    {
     "name": "stdout",
     "output_type": "stream",
     "text": [
      "Generating sine_balanced...\n",
      "Generating sine_unbalanced...\n",
      "Generating sine_balanced_noise...\n",
      "Generating sine_unbalanced_noise...\n",
      "Generating SEA...\n",
      "Generating SEA_noise...\n",
      "Generating STAGGER_balanced...\n",
      "Generating STAGGER_unbalanced...\n",
      "Generating Mixed_balanced...\n",
      "Generating Mixed_unbalanced...\n",
      "DONE\n"
     ]
    }
   ],
   "source": [
    "for metadata in DATASETS_METADATA:\n",
    "    print(f'Generating {metadata[\"file_name\"]}...')\n",
    "    dataset = []\n",
    "    for concept, params in enumerate(metadata['params']):\n",
    "        config = params['config']\n",
    "        dataset_gen = getattr(synth, metadata['dataset_name'])(**config)\n",
    "        for x, y in dataset_gen.take(params['n_inst']):\n",
    "            x['target'] = y\n",
    "            x['concept'] = concept\n",
    "            dataset.append(x)\n",
    "    pd.DataFrame(dataset).to_csv(f'{metadata[\"file_name\"]}.csv', index=False)\n",
    "\n",
    "print('DONE')"
   ]
  }
 ],
 "metadata": {
  "kernelspec": {
   "display_name": "venv",
   "language": "python",
   "name": "python3"
  },
  "language_info": {
   "codemirror_mode": {
    "name": "ipython",
    "version": 3
   },
   "file_extension": ".py",
   "mimetype": "text/x-python",
   "name": "python",
   "nbconvert_exporter": "python",
   "pygments_lexer": "ipython3",
   "version": "3.10.7"
  },
  "orig_nbformat": 4
 },
 "nbformat": 4,
 "nbformat_minor": 2
}
